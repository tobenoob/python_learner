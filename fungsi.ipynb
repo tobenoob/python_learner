{
 "cells": [
  {
   "cell_type": "code",
   "execution_count": null,
   "metadata": {},
   "outputs": [],
   "source": [
    "# fungsi def\n",
    "def jalan(): #jalan adalah nama fungsi\n",
    "    print(\"1234\")\n",
    "    \n",
    "jalan() #fungsi jalan di panggil untuk menampilkan \"1234\""
   ]
  },
  {
   "cell_type": "code",
   "execution_count": 16,
   "metadata": {},
   "outputs": [
    {
     "name": "stdout",
     "output_type": "stream",
     "text": [
      "1\n",
      "hasil dari luas  1\n"
     ]
    }
   ],
   "source": [
    "# fungsi def dengan 1 variabel inputan\n",
    "\n",
    "def persegi(sisi): #sisi adalah variabel \n",
    "    luas = sisi*sisi \n",
    "    print ('hasil dari luas ', luas)\n",
    "#\n",
    "n=int(input())\n",
    "persegi(n) #memanggil fungsi segitiga dengan nilai inputan (n)\n",
    "    "
   ]
  },
  {
   "cell_type": "code",
   "execution_count": 12,
   "metadata": {},
   "outputs": [
    {
     "name": "stdout",
     "output_type": "stream",
     "text": [
      "masukan nilai alas = \n",
      "1\n",
      "Masukan nilai tinggi = \n",
      "1\n",
      "Luas segitiga adalah =  0.5\n"
     ]
    }
   ],
   "source": [
    "#fungsi def dengan 2 variabel inputan\n",
    "def segitiga(alas,tinggi):\n",
    "    luassegitiga=(alas*tinggi)/2.\n",
    "    \n",
    "    print('Luas segitiga adalah = ', luassegitiga)\n",
    "\n",
    "print('masukan nilai alas = ')\n",
    "alas=float(input())\n",
    "print('Masukan nilai tinggi = ')\n",
    "tinggi=float(input())\n",
    "\n",
    "segitiga(alas,tinggi)"
   ]
  },
  {
   "cell_type": "code",
   "execution_count": 14,
   "metadata": {},
   "outputs": [
    {
     "name": "stdout",
     "output_type": "stream",
     "text": [
      "hasil dari perkalian a dan b adalah  25\n"
     ]
    }
   ],
   "source": [
    "#fungsi yang mengembalikan nilai (return)\n",
    "def perkalian(a,b):\n",
    "    kali = a*b\n",
    "    return kali\n",
    "\n",
    "print('hasil dari perkalian a dan b adalah ', perkalian(5,5))\n",
    "    "
   ]
  },
  {
   "cell_type": "code",
   "execution_count": 27,
   "metadata": {},
   "outputs": [
    {
     "name": "stdout",
     "output_type": "stream",
     "text": [
      "5.0\n"
     ]
    }
   ],
   "source": [
    "#fungsi return dengan dua fungsi \n",
    "\n",
    "import math #library math untuk akar\n",
    "\n",
    "def perkalian(a,b): #fungsi pertama untuk fungsi yang di kembalikan yang akan digunakan untuk pemrosesan selanjutnya\n",
    "    kali= a*b\n",
    "    return kali\n",
    "\n",
    "def pengakaran():\n",
    "    akar = math.sqrt(perkalian(5,5)) #fungsi perkalian diambil dari fungsi sebelumnya \n",
    "    print(akar)\n",
    "    \n",
    "pengakaran()\n"
   ]
  },
  {
   "cell_type": "code",
   "execution_count": null,
   "metadata": {},
   "outputs": [],
   "source": []
  },
  {
   "cell_type": "code",
   "execution_count": null,
   "metadata": {},
   "outputs": [],
   "source": []
  }
 ],
 "metadata": {
  "kernelspec": {
   "display_name": "Python 3",
   "language": "python",
   "name": "python3"
  },
  "language_info": {
   "codemirror_mode": {
    "name": "ipython",
    "version": 3
   },
   "file_extension": ".py",
   "mimetype": "text/x-python",
   "name": "python",
   "nbconvert_exporter": "python",
   "pygments_lexer": "ipython3",
   "version": "3.6.5"
  }
 },
 "nbformat": 4,
 "nbformat_minor": 2
}
